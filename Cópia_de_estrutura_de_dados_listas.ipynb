{
  "nbformat": 4,
  "nbformat_minor": 0,
  "metadata": {
    "colab": {
      "provenance": [],
      "authorship_tag": "ABX9TyNUJjnivWM97T/ffTmHTj1n",
      "include_colab_link": true
    },
    "kernelspec": {
      "name": "python3",
      "display_name": "Python 3"
    },
    "language_info": {
      "name": "python"
    }
  },
  "cells": [
    {
      "cell_type": "markdown",
      "metadata": {
        "id": "view-in-github",
        "colab_type": "text"
      },
      "source": [
        "<a href=\"https://colab.research.google.com/github/Rafa2704/P-s_Python/blob/main/C%C3%B3pia_de_estrutura_de_dados_listas.ipynb\" target=\"_parent\"><img src=\"https://colab.research.google.com/assets/colab-badge.svg\" alt=\"Open In Colab\"/></a>"
      ]
    },
    {
      "cell_type": "markdown",
      "source": [
        "1.\tCrie uma lista contendo 10 valores inteiros aleatórios, entre 1 e 20. Imprima:\n",
        "a.\tO maior valor, o menor valor, a soma e a média dos valores na lista\n",
        "b.\tOrdene a lista, e em seguida, a imprima em ordem crescente\n",
        "c.\tImprima a lista em ordem decrescente\n",
        "d.\tSolicite ao usuário que informe um valor e imprima a quantidade de ocorrências do valor na lista. Imprima uma mensagem, caso o valor não se encontre na lista\n"
      ],
      "metadata": {
        "id": "yKyEIkDp0Wgb"
      }
    },
    {
      "cell_type": "markdown",
      "source": [],
      "metadata": {
        "id": "sQOnMwF90hcL"
      }
    },
    {
      "cell_type": "code",
      "execution_count": 2,
      "metadata": {
        "colab": {
          "base_uri": "https://localhost:8080/"
        },
        "id": "GqqhflQx0VqO",
        "outputId": "a3177e5f-ec1a-4f22-9ace-110a51ab2fc3"
      },
      "outputs": [
        {
          "output_type": "stream",
          "name": "stdout",
          "text": [
            "[13, 5, 2, 8, 16, 1, 17, 9, 6, 3]\n"
          ]
        }
      ],
      "source": [
        "#Crie uma lista contendo 10 valores inteiros aleatórios, entre 1 e 20\n",
        "import random\n",
        "import pandas\n",
        "lista =  random.sample(range(1, 21),10)\n",
        "print(lista)"
      ]
    },
    {
      "cell_type": "code",
      "source": [
        "#O maior valor, o menor valor, a soma e a média dos valores na listatype(lista)"
      ],
      "metadata": {
        "id": "AKU8n0Xm0otD"
      },
      "execution_count": null,
      "outputs": []
    },
    {
      "cell_type": "code",
      "source": [
        "media = sum(lista) / len(lista)"
      ],
      "metadata": {
        "id": "zqTwB-8_3yiZ"
      },
      "execution_count": null,
      "outputs": []
    },
    {
      "cell_type": "code",
      "source": [
        "print(f'o maior numero da lista é {max(lista)}')\n",
        "print(f'o menor numero da lista é {min(lista)}')\n",
        "print(f'a soma  da lista é {sum(lista)}')\n",
        "print(f'a media da lista é {media}')"
      ],
      "metadata": {
        "colab": {
          "base_uri": "https://localhost:8080/"
        },
        "id": "ZJ9Ychib2ET5",
        "outputId": "f36ae0c7-93b5-410c-b4e2-be06f9e4194b"
      },
      "execution_count": null,
      "outputs": [
        {
          "output_type": "stream",
          "name": "stdout",
          "text": [
            "o maior numero da lista é 19\n",
            "o menor numero da lista é 4\n",
            "a soma  da lista é 113\n",
            "a media da lista é 11.3\n"
          ]
        }
      ]
    },
    {
      "cell_type": "code",
      "source": [
        "#Ordene a lista, e em seguida, a imprima em ordem crescente\n",
        "print(sorted(lista))"
      ],
      "metadata": {
        "colab": {
          "base_uri": "https://localhost:8080/"
        },
        "id": "_5z4cEg62xey",
        "outputId": "52533385-88c1-4200-c9aa-eec12a14a9d6"
      },
      "execution_count": null,
      "outputs": [
        {
          "output_type": "stream",
          "name": "stdout",
          "text": [
            "[4, 5, 7, 8, 10, 13, 14, 16, 17, 19]\n"
          ]
        }
      ]
    },
    {
      "cell_type": "code",
      "source": [
        "#. Imprima a lista em ordem decrescente\n",
        "print(sorted(lista, reverse= True))"
      ],
      "metadata": {
        "colab": {
          "base_uri": "https://localhost:8080/"
        },
        "id": "8yp4BhMR4MIp",
        "outputId": "f035d682-d16a-49ee-8dca-933917d491f1"
      },
      "execution_count": null,
      "outputs": [
        {
          "output_type": "stream",
          "name": "stdout",
          "text": [
            "[19, 17, 16, 14, 13, 10, 8, 7, 5, 4]\n"
          ]
        }
      ]
    },
    {
      "cell_type": "code",
      "source": [
        "#Solicite ao usuário que informe um valor e imprima a quantidade de ocorrências do valor na lista. Imprima uma mensagem, caso o valor não se encontre na lista\n",
        "qtd = 0\n",
        "valor = int(input('Informe um valor'))\n",
        "if valor in lista:\n",
        "  qtd = qtd + 1\n",
        "  print(f' Valor informado é {valor}')  \n",
        "  print(f'quantidades de vezes q aparece é {qtd}' )  \n",
        "  print(f'essa e a lista {lista}')\n",
        "else:\n",
        "  print(f'essa e a lista {lista}')\n",
        "  print(f'Valor informado {valor} não esta na lista')"
      ],
      "metadata": {
        "id": "UCyYoV3M43US",
        "colab": {
          "base_uri": "https://localhost:8080/"
        },
        "outputId": "7b396325-9c0a-4d34-92f5-23800a2da948"
      },
      "execution_count": null,
      "outputs": [
        {
          "output_type": "stream",
          "name": "stdout",
          "text": [
            "Informe um valor20\n",
            "essa e a lista [8, 10, 14, 17, 13, 7, 16, 4, 19, 5]\n",
            "Valor informado 20 não esta na lista\n"
          ]
        }
      ]
    },
    {
      "cell_type": "markdown",
      "source": [
        "2.\tCrie duas listas com 10 valores inteiros aleatórios (escolha uma faixa qualquer). Crie outras duas listas: uma que contenha a soma dos elementos de mesma posição das duas listas originais, e outra que contenha a multiplicação dos valores de mesma posição. Imprima em seguida as 3 listas."
      ],
      "metadata": {
        "id": "NZV0LCk-87xi"
      }
    },
    {
      "cell_type": "code",
      "source": [
        "lista1 = []\n",
        "lista2 = []\n",
        "\n",
        "for i in range(1,11):\n",
        "  lista1.append(random.randint(1,10))\n",
        "  lista2.append(random.randint(1,10))\n",
        "\n",
        "soma_lista = []\n",
        "multiplicao_lista = []\n",
        "\n",
        "# Calculando a soma e multiplicação dos elementos correspondentes\n",
        "for i in range(len(lista1)):\n",
        "    soma = lista1[i] + lista2[i]\n",
        "    multiplicacao = lista1[i] * lista2[i]\n",
        "    soma_lista.append(soma)\n",
        "    multiplicao_lista.append(multiplicacao)\n",
        "\n",
        "# Imprimindo as três listas\n",
        "print(\"Lista 1:\", lista1)\n",
        "print(\"Lista 2:\", lista2)\n",
        "print(\"Soma dos elementos correspondentes:\", soma_lista)\n",
        "print(\"Multiplicação dos elementos correspondentes:\", multiplicao_lista)"
      ],
      "metadata": {
        "colab": {
          "base_uri": "https://localhost:8080/"
        },
        "id": "8ZHT72co7Z0K",
        "outputId": "c595392c-56bd-4669-92cb-a2f3927d74cd"
      },
      "execution_count": null,
      "outputs": [
        {
          "output_type": "stream",
          "name": "stdout",
          "text": [
            "Lista 1: [3, 6, 10, 2, 10, 1, 8, 5, 1, 6]\n",
            "Lista 2: [10, 7, 1, 5, 5, 5, 1, 1, 3, 1]\n",
            "Soma dos elementos correspondentes: [13, 13, 11, 7, 15, 6, 9, 6, 4, 7]\n",
            "Multiplicação dos elementos correspondentes: [30, 42, 10, 10, 50, 5, 8, 5, 3, 6]\n"
          ]
        }
      ]
    },
    {
      "cell_type": "markdown",
      "source": [
        "3.\tConsidere a seguinte lista: [10, 20, 30, 30, 30, 40, 10, 20]\n",
        "\tFaça um programa que exclua todas as ocorrências do número 30 da lista\n",
        "*texto em itálico*"
      ],
      "metadata": {
        "id": "ZAkiZISZA0HJ"
      }
    },
    {
      "cell_type": "code",
      "source": [
        "lista = [10, 20, 30, 30, 30, 40, 10, 20]\n",
        "\n",
        "# Percorre a lista\n",
        "for numero in lista:\n",
        "    # Verifica se o número é igual a 30\n",
        "    if numero == 30:\n",
        "        # Remove o número da lista\n",
        "        lista.remove(numero)\n",
        "\n",
        "print(\"Lista após a remoção:\", lista)\n"
      ],
      "metadata": {
        "colab": {
          "base_uri": "https://localhost:8080/"
        },
        "id": "9jkGhib3_SZS",
        "outputId": "6b20489e-0576-47f9-cb81-1dd5697aac24"
      },
      "execution_count": null,
      "outputs": [
        {
          "output_type": "stream",
          "name": "stdout",
          "text": [
            "Lista após a remoção: [10, 20, 30, 40, 10, 20]\n"
          ]
        }
      ]
    },
    {
      "cell_type": "markdown",
      "source": [
        "4.\tCrie uma lista contendo 10 valores inteiros aleatórios (escolha uma faixa qualquer). Crie outras duas listas: uma para armazenar os valores pares da primeira lista, e outra para armazenar os valores ímpares. Imprima em seguida as 3 listas."
      ],
      "metadata": {
        "id": "UxCLXWaYmnT_"
      }
    },
    {
      "cell_type": "code",
      "source": [
        "# lista contendo 10 valores inteiros aleatórios\n",
        "lista_aleatorios =  random.sample(range(1, 21),10)\n",
        "print(lista_aleatorios)\n",
        "\n",
        "# listas vazias \n",
        "pares = []\n",
        "impares = []\n",
        "\n",
        "for i in lista_aleatorios:\n",
        "  if i % 2 == 0:\n",
        "    pares.append(i)\n",
        "  else:\n",
        "    impares.append(i)\n",
        "\n",
        "print(f' Os numeros pares da lista foram {pares}')\n",
        "print(f' Os numeros impares  da lista foram {impares}' )"
      ],
      "metadata": {
        "id": "ojyf9umTA6t7",
        "colab": {
          "base_uri": "https://localhost:8080/"
        },
        "outputId": "d800e497-b2af-4361-e6f1-6889b8e12af6"
      },
      "execution_count": 6,
      "outputs": [
        {
          "output_type": "stream",
          "name": "stdout",
          "text": [
            "[4, 13, 3, 17, 7, 12, 5, 15, 10, 2]\n",
            " Os numeros pares da lista foram [4, 12, 10, 2]\n",
            " Os numeros impares  da lista foram [13, 3, 17, 7, 5, 15]\n"
          ]
        }
      ]
    },
    {
      "cell_type": "markdown",
      "source": [
        "5.\tSolicite ao usuário que digite uma data no formato DD/MM/AAAA e imprima a data por extenso. Por exemplo:\n",
        "1/11/2022 – 08 de novembro de 2022\n",
        "(dica: crie uma lista contendo o nome de cada mês do ano)\n"
      ],
      "metadata": {
        "id": "secrz6V5ocW_"
      }
    },
    {
      "cell_type": "code",
      "source": [
        "# Lista de nomes dos meses do ano\n",
        "meses = [\n",
        "    'janeiro', 'fevereiro', 'março', 'abril', 'maio', 'junho',\n",
        "    'julho', 'agosto', 'setembro', 'outubro', 'novembro', 'dezembro'\n",
        "]\n",
        "\n",
        "# Solicita ao usuário uma data\n",
        "data = input(\"Digite uma data no formato DD/MM/AAAA: \")\n",
        "\n",
        "# Separa o dia, mês e ano\n",
        "dia, mes, ano = data.split('/')\n",
        "\n",
        "\n",
        "\n",
        "# Converte para inteiro\n",
        "dia = int(dia)\n",
        "mes = int(mes)\n",
        "ano = int(ano)\n",
        "\n",
        "#pega o dia e converte para inteiro, depois ele vai na lista de meses e pega o indice mes -1 por a lista inicia em 1 e o normal é 0, depois o ano\n",
        "# Imprime a data por extenso\n",
        "data_extenso =print(f'{dia} de {meses[mes - 1]} de {ano}')\n",
        "\n",
        "\n"
      ],
      "metadata": {
        "colab": {
          "base_uri": "https://localhost:8080/"
        },
        "id": "hItanOhxnAVa",
        "outputId": "4d629c3c-4a0c-4751-bc16-c0d8b7b919ed"
      },
      "execution_count": 11,
      "outputs": [
        {
          "output_type": "stream",
          "name": "stdout",
          "text": [
            "Digite uma data no formato DD/MM/AAAA: 27/04/2014\n",
            "27 de abril de 2014\n"
          ]
        }
      ]
    },
    {
      "cell_type": "markdown",
      "source": [
        "6.\tFaça um programa que gere uma lista contendo 6 números aleatórios, de 1 a 60, que serão jogados na Mega-Sena. Em seguida, solicite ao usuário os 6 números sorteados. Imprima a lista contendo os números jogados, e a quantidade de números acertados no sorteio"
      ],
      "metadata": {
        "id": "HSn0E5a_raDX"
      }
    },
    {
      "cell_type": "code",
      "source": [
        "# Gera a lista de números aleatórios\n",
        "numeros_sorteados = random.sample(range(1, 61), 6)\n",
        "\n",
        "# Solicita ao usuário os números sorteados\n",
        "numeros_jogados = []\n",
        "for i in range(6):\n",
        "    numero = int(input(\"Digite o número sorteado: \"))\n",
        "    numeros_jogados.append(numero)\n",
        "\n",
        "# Verifica a quantidade de números acertados\n",
        "# a função set ela cria um conjunto de dados com valores unicos  e o & ele verifica se tem interseção  entre elas \n",
        "acertos = set(numeros_jogados) & set(numeros_sorteados)\n",
        "quantidade_acertos = len(acertos)\n",
        "\n",
        "# Imprime os números jogados e a quantidade de acertos\n",
        "print(f' Números jogados:\" {numeros_jogados}')\n",
        "print(f' Numeros que vc acertou: {acertos}')\n",
        "print(f' Quantidade de acertos: {quantidade_acertos}')\n",
        "print(f' Numeros sorteados foram {numeros_sorteados}')\n"
      ],
      "metadata": {
        "colab": {
          "base_uri": "https://localhost:8080/"
        },
        "id": "av0HMksirxsQ",
        "outputId": "dc2c9cf5-4211-46b2-b864-2d173c52903c"
      },
      "execution_count": 39,
      "outputs": [
        {
          "output_type": "stream",
          "name": "stdout",
          "text": [
            "Digite o número sorteado: 25\n",
            "Digite o número sorteado: 65\n",
            "Digite o número sorteado: 17\n",
            "Digite o número sorteado: 5\n",
            "Digite o número sorteado: 65\n",
            "Digite o número sorteado: 17\n",
            " Números jogados:\" [25, 65, 17, 5, 65, 17]\n",
            " Numeros que vc acertou: set()\n",
            " Quantidade de acertos: 0\n",
            " Numeros sorteados foram [39, 10, 42, 54, 24, 22]\n"
          ]
        }
      ]
    },
    {
      "cell_type": "code",
      "source": [
        "2"
      ],
      "metadata": {
        "id": "NZ9n5s83yjSQ"
      },
      "execution_count": null,
      "outputs": []
    }
  ]
}