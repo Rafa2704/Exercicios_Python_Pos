{
  "nbformat": 4,
  "nbformat_minor": 0,
  "metadata": {
    "colab": {
      "provenance": [],
      "authorship_tag": "ABX9TyMOXVoAtWlEJaCEPiRqE0Y8",
      "include_colab_link": true
    },
    "kernelspec": {
      "name": "python3",
      "display_name": "Python 3"
    },
    "language_info": {
      "name": "python"
    }
  },
  "cells": [
    {
      "cell_type": "markdown",
      "metadata": {
        "id": "view-in-github",
        "colab_type": "text"
      },
      "source": [
        "<a href=\"https://colab.research.google.com/github/Rafa2704/P-s_Python/blob/main/Exerc%C3%ADcios_P%C3%B3s_sequencial.ipynb\" target=\"_parent\"><img src=\"https://colab.research.google.com/assets/colab-badge.svg\" alt=\"Open In Colab\"/></a>"
      ]
    },
    {
      "cell_type": "markdown",
      "source": [
        "1. Leia três números inteiros e imprima a média aritmética entre esses\n",
        "números"
      ],
      "metadata": {
        "id": "C9lqDlwuri5y"
      }
    },
    {
      "cell_type": "code",
      "execution_count": null,
      "metadata": {
        "colab": {
          "base_uri": "https://localhost:8080/"
        },
        "id": "zvWjZieOrT5b",
        "outputId": "30078931-db35-4174-c9ba-833ff5c328b7"
      },
      "outputs": [
        {
          "output_type": "stream",
          "name": "stdout",
          "text": [
            "Digite o primeiro numero 2\n",
            "Digite o segundo numero 2\n",
            "Digite o terceiro numero 2\n",
            "A média dos numeros é 2.00\n"
          ]
        }
      ],
      "source": [
        "num1 = int(input('Digite o primeiro numero '))\n",
        "num2 = int(input('Digite o segundo numero '))\n",
        "num3 = int(input('Digite o terceiro numero '))\n",
        "\n",
        "numeros = [num1,num2,num3]\n",
        "media = sum(numeros) / len(numeros)\n",
        "print(f'A média dos numeros é {media:.2f}')"
      ]
    },
    {
      "cell_type": "markdown",
      "source": [
        ". Faça um programa que receba o ano de nascimento de uma pessoa, o\n",
        "ano atual e imprima:\n",
        "a. A idade da pessoa no ano atual\n",
        "b. A idade que a pessoa terá em 2050\n",
        "\n"
      ],
      "metadata": {
        "id": "onQmUmhMtjjz"
      }
    },
    {
      "cell_type": "code",
      "source": [
        "import datetime\n",
        "\n",
        "ano_atual = datetime.datetime.now().year\n",
        "ano = int(input('Digite o ano que nasceu'))\n",
        "idade_atual = ano_atual - ano\n",
        "idade_2050 = 2050 - ano\n",
        "print( f'Sua idade agora é {idade_atual}')\n",
        "print( f'Sua idade no ano 2050 é {idade_2050}')"
      ],
      "metadata": {
        "colab": {
          "base_uri": "https://localhost:8080/"
        },
        "id": "Y89eI8Wesyi9",
        "outputId": "1e643343-7b3b-4f9f-e8ac-6d13f4189a10"
      },
      "execution_count": null,
      "outputs": [
        {
          "output_type": "stream",
          "name": "stdout",
          "text": [
            "Digite o ano que nasceu1984\n",
            "Sua idade agora é 39\n",
            "Sua idade no ano 2050 é 66\n"
          ]
        }
      ]
    },
    {
      "cell_type": "markdown",
      "source": [
        "3. Faça um programa que solicite ao usuário que informe os coeficientes a,\n",
        "b e c de uma equação de segundo grau, e que imprima as raízes desta\n",
        "equação (considere que os valores informados sempre retornarão raízes\n",
        "reais para a equação)."
      ],
      "metadata": {
        "id": "ZQzEbyc9vUo5"
      }
    },
    {
      "cell_type": "code",
      "source": [
        "import math\n",
        "\n",
        "# Solicitar os coeficientes a, b e c ao usuário\n",
        "a = float(input(\"Informe o coeficiente a: \"))\n",
        "b = float(input(\"Informe o coeficiente b: \"))\n",
        "c = float(input(\"Informe o coeficiente c: \"))\n",
        "\n",
        "# Calcular o discriminante\n",
        "delta = b**2 - 4*a*c\n",
        "\n",
        "# Calcular as raízes\n",
        "if delta > 0:\n",
        "    raiz1 = (-b + math.sqrt(delta)) / (2*a)\n",
        "    raiz2 = (-b - math.sqrt(delta)) / (2*a)\n",
        "    print(\"As raízes são:\", raiz1, \"e\", raiz2)\n",
        "elif delta == 0:\n",
        "    raiz = -b / (2*a)\n",
        "    print(\"A raiz é:\", raiz)\n",
        "else:\n",
        "    print(\"Não existem raízes reais para a equação.\")\n"
      ],
      "metadata": {
        "colab": {
          "base_uri": "https://localhost:8080/"
        },
        "id": "vHemI9g_vL4I",
        "outputId": "904b980c-3e48-47a4-d743-7e417e0a6fff"
      },
      "execution_count": null,
      "outputs": [
        {
          "output_type": "stream",
          "name": "stdout",
          "text": [
            "Informe o coeficiente a: 1\n",
            "Informe o coeficiente b: 5\n",
            "Informe o coeficiente c: 6\n",
            "As raízes são: -2.0 e -3.0\n"
          ]
        }
      ]
    },
    {
      "cell_type": "markdown",
      "source": [
        "4. Leia um número e imprima a tabuada de multiplicar deste número. Por\n",
        "exemplo, para o número 5"
      ],
      "metadata": {
        "id": "90wRNwZV4NmF"
      }
    },
    {
      "cell_type": "code",
      "source": [
        "numero = int(input('Digite o primeiro numero '))\n",
        "for i in range(1,11):\n",
        "  print(f' {numero} * {i} = {i * numero}')\n"
      ],
      "metadata": {
        "colab": {
          "base_uri": "https://localhost:8080/"
        },
        "id": "1tEtIJVnvwes",
        "outputId": "0dba50c2-110a-4456-ab0c-984c035a2b51"
      },
      "execution_count": null,
      "outputs": [
        {
          "output_type": "stream",
          "name": "stdout",
          "text": [
            "Digite o primeiro numero 25\n",
            " 25 * 1 = 25\n",
            " 25 * 2 = 50\n",
            " 25 * 3 = 75\n",
            " 25 * 4 = 100\n",
            " 25 * 5 = 125\n",
            " 25 * 6 = 150\n",
            " 25 * 7 = 175\n",
            " 25 * 8 = 200\n",
            " 25 * 9 = 225\n",
            " 25 * 10 = 250\n"
          ]
        }
      ]
    },
    {
      "cell_type": "markdown",
      "source": [
        "5. Receba um número positivo, calcule e mostre:\n",
        "a. O número digitado ao quadrado\n",
        "b. O número digitado ao cubo\n",
        "c. A raiz quadrada do número digitado\n",
        "d. A raiz cúbica do número digitado\n",
        "\\"
      ],
      "metadata": {
        "id": "HQbarHwy5e31"
      }
    },
    {
      "cell_type": "code",
      "source": [
        "positivo = int(input('Digite o primeiro numero '))\n",
        "if positivo < 0:\n",
        "  print('Digite um numero valido')\n",
        "else:\n",
        "  print(f'vc digitou {positivo} ele ao quadrado é { positivo **2}\\nvc digitou {positivo} ao cubo é {positivo ** 3}\\n a raiz quadrada do numero {positivo} é {math.sqrt(positivo)}\\n a raiz cubica é {positivo ** (1/3)} ')"
      ],
      "metadata": {
        "colab": {
          "base_uri": "https://localhost:8080/"
        },
        "id": "II7bWaIc48m0",
        "outputId": "3e622e42-62cb-4a86-8c5b-a8cd7875e932"
      },
      "execution_count": null,
      "outputs": [
        {
          "output_type": "stream",
          "name": "stdout",
          "text": [
            "Digite o primeiro numero 5\n",
            "vc digitou 5 ele ao quadrado é 25\n",
            "vc digitou 5 ao cubo é 125\n",
            " a raiz quadrada do numero 5 é 2.23606797749979\n",
            " a raiz cubica é 1.7099759466766968 \n"
          ]
        }
      ]
    },
    {
      "cell_type": "markdown",
      "source": [
        "6. Todo restaurante, embora por lei não possa obrigar o cliente a pagar,\n",
        "cobra 10% para o garçom. Faça um programa que leia o valor gasto pelo\n",
        "cliente e informe o valor a ser pago de gorjeta"
      ],
      "metadata": {
        "id": "oo64iAG59yWV"
      }
    },
    {
      "cell_type": "code",
      "source": [
        "gorjeta = float(input('Digite o primeiro numero '))\n",
        "total = gorjeta + gorjeta * 0.10\n",
        "\n",
        "print( f' o valor gasto pelo cliente foi de {gorjeta:.2f}\\n a gorgeta sera no valor de {gorjeta * 0.10}\\n o total da conta foi de {total}')"
      ],
      "metadata": {
        "colab": {
          "base_uri": "https://localhost:8080/"
        },
        "id": "omdFEL796qHO",
        "outputId": "f5542609-ea75-4690-a9f7-06587f4c0a25"
      },
      "execution_count": null,
      "outputs": [
        {
          "output_type": "stream",
          "name": "stdout",
          "text": [
            "Digite o primeiro numero 365\n",
            " o valor gasto pelo cliente foi de 365.00\n",
            " a gorgeta sera no valor de 36.5\n",
            " o total da conta foi de 401.5\n"
          ]
        }
      ]
    },
    {
      "cell_type": "markdown",
      "source": [
        "7. Faça um programa que receba um número inteiro e que imprima o\n",
        "antecessor, o sucessor, o dobro e a metade do número informado"
      ],
      "metadata": {
        "id": "NbwEgvGi-vVd"
      }
    },
    {
      "cell_type": "code",
      "source": [
        "inteiro = int(input('Digite um numero '))\n",
        "print(f'O antecessor de {inteiro} é {inteiro -1}' )\n",
        "print(f'O sucessor de {inteiro} é {inteiro +1}' )\n",
        "print(f'O dobro de {inteiro} é {inteiro *2}')\n",
        "print(f'A metade de {inteiro} é {inteiro /2}' )"
      ],
      "metadata": {
        "colab": {
          "base_uri": "https://localhost:8080/"
        },
        "id": "t4-dhO70-cas",
        "outputId": "d584fffc-e4a1-41ed-b072-65d792ff09a7"
      },
      "execution_count": null,
      "outputs": [
        {
          "output_type": "stream",
          "name": "stdout",
          "text": [
            "Digite o primeiro numero 5\n",
            "O antecessor de 5 é 4\n",
            "O sucessor de 5 é 6\n",
            "O dobro de 5 é 10\n",
            "A metade de 5 é 2.5\n"
          ]
        }
      ]
    },
    {
      "cell_type": "markdown",
      "source": [
        "8. Faça um programa que, tendo como dados de entrada a altura (H - em\n",
        "metros) de um homem, calcule e apresente seu peso ideal utilizando a\n",
        "seguinte fórmula:\n",
        "Peso ideal (P) = (72,7 * H) – 58."
      ],
      "metadata": {
        "id": "05QK65P9_vCl"
      }
    },
    {
      "cell_type": "code",
      "source": [
        "altura = float(input('Digite sua altura '))\n",
        "Peso_ideal = (72.7 * altura) - 58\n",
        "print(f'{Peso_ideal:.2f}')\n",
        "\n"
      ],
      "metadata": {
        "colab": {
          "base_uri": "https://localhost:8080/"
        },
        "id": "SByKeHEy_q23",
        "outputId": "58bc08fc-f8f8-4f6d-85bb-447baac8141d"
      },
      "execution_count": null,
      "outputs": [
        {
          "output_type": "stream",
          "name": "stdout",
          "text": [
            "Digite sua altura 1.55\n",
            "54.69\n"
          ]
        }
      ]
    },
    {
      "cell_type": "markdown",
      "source": [
        "9. Faça o mesmo programa do item anterior, utilizando a fórmula para o\n",
        "cálculo do peso ideal para mulheres:\n",
        "Peso ideal (P) = (62,1 * H) – 44,7"
      ],
      "metadata": {
        "id": "Ge6SDWLsA6Gm"
      }
    },
    {
      "cell_type": "code",
      "source": [
        "altura_m = float(input('Digite sua altura '))\n",
        "Peso_ideal_m = (62.1 * altura) - 44.7\n",
        "print(f'{Peso_ideal_m:.2f}')\n"
      ],
      "metadata": {
        "colab": {
          "base_uri": "https://localhost:8080/"
        },
        "id": "zo2qNGljAUz-",
        "outputId": "11451bc3-2596-4892-9a09-ce76e43c5fcd"
      },
      "execution_count": null,
      "outputs": [
        {
          "output_type": "stream",
          "name": "stdout",
          "text": [
            "Digite sua altura 1.60\n",
            "51.56\n"
          ]
        }
      ]
    },
    {
      "cell_type": "markdown",
      "source": [
        "10. Faça um programa que leia duas variáveis e troque o conteúdo dessas\n",
        "duas variáveis. Em seguida, imprima o valor dessas variáveis invertido.\n",
        "Exemplo: A = 7, B = 9. Saída: A = 9, B = 7"
      ],
      "metadata": {
        "id": "mS_p1CyHBJoe"
      }
    },
    {
      "cell_type": "code",
      "source": [
        "var1 = float(input('Digite sua altura '))\n",
        "var2 = float(input('Digite sua altura '))\n",
        "\n",
        "var_aux = var1\n",
        "var1 = var2\n",
        "var2 = var_aux\n",
        "print(var1,var2)"
      ],
      "metadata": {
        "colab": {
          "base_uri": "https://localhost:8080/"
        },
        "id": "0djDeTXzBF3B",
        "outputId": "06a8acb5-4d61-454a-bbc9-548f134f9da2"
      },
      "execution_count": null,
      "outputs": [
        {
          "output_type": "stream",
          "name": "stdout",
          "text": [
            "Digite sua altura 2\n",
            "Digite sua altura 4\n",
            "4.0 2.0\n"
          ]
        }
      ]
    },
    {
      "cell_type": "markdown",
      "source": [
        "11. Considerando uma eleição de apenas dois candidatos, faça um\n",
        "programa que leia o número total de eleitores, o número de votos do\n",
        "primeiro candidato e o número de votos do segundo candidato. Em\n",
        "seguida, o programa deverá apresentar o percentual de votos de cada um\n",
        "dos candidatos e o percentual de votos nulos"
      ],
      "metadata": {
        "id": "6HaGaL4zCE1O"
      }
    },
    {
      "cell_type": "code",
      "source": [
        "eleitores = int(input('Digite total votos'))\n",
        "voto1 = int(input('total de votos do primeiro canditado'))\n",
        "voto2 = int(input('total de votos do segundo canditado'))\n",
        "total = voto1 + voto2\n",
        "print(f'O percentual de votos do 1° candidato foi de {(voto1 / eleitores) *100} %')\n",
        "print(f'O percentual de votos do 2° candidato foi de {(voto2 / eleitores) *100} %')\n",
        "if total < eleitores:\n",
        "  nulos = (total - eleitores) *-1\n",
        "  print(f'O percentual de votos nulos foi de {(nulos / eleitores) *100} %')\n",
        "else:\n",
        "  print('não teve votos em nulo')\n"
      ],
      "metadata": {
        "colab": {
          "base_uri": "https://localhost:8080/"
        },
        "id": "cksUbvgNBbHL",
        "outputId": "fa7b9b1b-3f4e-4a2c-ecaf-338d831c8ed6"
      },
      "execution_count": null,
      "outputs": [
        {
          "output_type": "stream",
          "name": "stdout",
          "text": [
            "Digite total votos1000\n",
            "total de votos do primeiro canditado500\n",
            "total de votos do segundo canditado400\n",
            "O percentual de votos do 1° candidato foi de 50.0 %\n",
            "O percentual de votos do 2° candidato foi de 40.0 %\n",
            "O percentual de votos nulos foi de 10.0 %\n"
          ]
        }
      ]
    },
    {
      "cell_type": "code",
      "source": [],
      "metadata": {
        "id": "iG0EhbTnDzTA"
      },
      "execution_count": null,
      "outputs": []
    }
  ]
}