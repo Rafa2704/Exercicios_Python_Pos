{
  "nbformat": 4,
  "nbformat_minor": 0,
  "metadata": {
    "colab": {
      "provenance": [],
      "authorship_tag": "ABX9TyPw9M3qgAV3UrMOnaCpedg6",
      "include_colab_link": true
    },
    "kernelspec": {
      "name": "python3",
      "display_name": "Python 3"
    },
    "language_info": {
      "name": "python"
    }
  },
  "cells": [
    {
      "cell_type": "markdown",
      "metadata": {
        "id": "view-in-github",
        "colab_type": "text"
      },
      "source": [
        "<a href=\"https://colab.research.google.com/github/Rafa2704/P-s_Python/blob/main/Exercicio_p%C3%B3s_for.ipynb\" target=\"_parent\"><img src=\"https://colab.research.google.com/assets/colab-badge.svg\" alt=\"Open In Colab\"/></a>"
      ]
    },
    {
      "cell_type": "code",
      "execution_count": null,
      "metadata": {
        "id": "MUVS_LhVnaym"
      },
      "outputs": [],
      "source": [
        "import pandas as pd"
      ]
    },
    {
      "cell_type": "code",
      "source": [
        "jogadores = pd.read_csv(r'/content/jogadores.csv',sep=';')"
      ],
      "metadata": {
        "id": "nOZWWP92n22B"
      },
      "execution_count": null,
      "outputs": []
    },
    {
      "cell_type": "code",
      "source": [
        "jogadores.dropna(subset=['salario'], inplace = True)"
      ],
      "metadata": {
        "id": "eBd2ZAscqtEd"
      },
      "execution_count": null,
      "outputs": []
    },
    {
      "cell_type": "code",
      "source": [
        "jogadores"
      ],
      "metadata": {
        "colab": {
          "base_uri": "https://localhost:8080/",
          "height": 175
        },
        "id": "MGh1bjJroJHm",
        "outputId": "6cae9223-56a5-4862-fe1a-f1a9aa298edc"
      },
      "execution_count": null,
      "outputs": [
        {
          "output_type": "execute_result",
          "data": {
            "text/plain": [
              "         jogador      time   posicao   salario\n",
              "0        Everson  Atlético   Goleiro  150000.0\n",
              "1  Incrível Hulk  Atlético  Atacante  850000.0\n",
              "2          Fábio  Cruzeiro   Goleiro  100000.0\n",
              "3            Edu  Cruzeiro  Atacante  150000.0"
            ],
            "text/html": [
              "\n",
              "  <div id=\"df-e6e4c7ce-7da1-4d99-bdfc-56c6b1820a92\">\n",
              "    <div class=\"colab-df-container\">\n",
              "      <div>\n",
              "<style scoped>\n",
              "    .dataframe tbody tr th:only-of-type {\n",
              "        vertical-align: middle;\n",
              "    }\n",
              "\n",
              "    .dataframe tbody tr th {\n",
              "        vertical-align: top;\n",
              "    }\n",
              "\n",
              "    .dataframe thead th {\n",
              "        text-align: right;\n",
              "    }\n",
              "</style>\n",
              "<table border=\"1\" class=\"dataframe\">\n",
              "  <thead>\n",
              "    <tr style=\"text-align: right;\">\n",
              "      <th></th>\n",
              "      <th>jogador</th>\n",
              "      <th>time</th>\n",
              "      <th>posicao</th>\n",
              "      <th>salario</th>\n",
              "    </tr>\n",
              "  </thead>\n",
              "  <tbody>\n",
              "    <tr>\n",
              "      <th>0</th>\n",
              "      <td>Everson</td>\n",
              "      <td>Atlético</td>\n",
              "      <td>Goleiro</td>\n",
              "      <td>150000.0</td>\n",
              "    </tr>\n",
              "    <tr>\n",
              "      <th>1</th>\n",
              "      <td>Incrível Hulk</td>\n",
              "      <td>Atlético</td>\n",
              "      <td>Atacante</td>\n",
              "      <td>850000.0</td>\n",
              "    </tr>\n",
              "    <tr>\n",
              "      <th>2</th>\n",
              "      <td>Fábio</td>\n",
              "      <td>Cruzeiro</td>\n",
              "      <td>Goleiro</td>\n",
              "      <td>100000.0</td>\n",
              "    </tr>\n",
              "    <tr>\n",
              "      <th>3</th>\n",
              "      <td>Edu</td>\n",
              "      <td>Cruzeiro</td>\n",
              "      <td>Atacante</td>\n",
              "      <td>150000.0</td>\n",
              "    </tr>\n",
              "  </tbody>\n",
              "</table>\n",
              "</div>\n",
              "      <button class=\"colab-df-convert\" onclick=\"convertToInteractive('df-e6e4c7ce-7da1-4d99-bdfc-56c6b1820a92')\"\n",
              "              title=\"Convert this dataframe to an interactive table.\"\n",
              "              style=\"display:none;\">\n",
              "        \n",
              "  <svg xmlns=\"http://www.w3.org/2000/svg\" height=\"24px\"viewBox=\"0 0 24 24\"\n",
              "       width=\"24px\">\n",
              "    <path d=\"M0 0h24v24H0V0z\" fill=\"none\"/>\n",
              "    <path d=\"M18.56 5.44l.94 2.06.94-2.06 2.06-.94-2.06-.94-.94-2.06-.94 2.06-2.06.94zm-11 1L8.5 8.5l.94-2.06 2.06-.94-2.06-.94L8.5 2.5l-.94 2.06-2.06.94zm10 10l.94 2.06.94-2.06 2.06-.94-2.06-.94-.94-2.06-.94 2.06-2.06.94z\"/><path d=\"M17.41 7.96l-1.37-1.37c-.4-.4-.92-.59-1.43-.59-.52 0-1.04.2-1.43.59L10.3 9.45l-7.72 7.72c-.78.78-.78 2.05 0 2.83L4 21.41c.39.39.9.59 1.41.59.51 0 1.02-.2 1.41-.59l7.78-7.78 2.81-2.81c.8-.78.8-2.07 0-2.86zM5.41 20L4 18.59l7.72-7.72 1.47 1.35L5.41 20z\"/>\n",
              "  </svg>\n",
              "      </button>\n",
              "      \n",
              "  <style>\n",
              "    .colab-df-container {\n",
              "      display:flex;\n",
              "      flex-wrap:wrap;\n",
              "      gap: 12px;\n",
              "    }\n",
              "\n",
              "    .colab-df-convert {\n",
              "      background-color: #E8F0FE;\n",
              "      border: none;\n",
              "      border-radius: 50%;\n",
              "      cursor: pointer;\n",
              "      display: none;\n",
              "      fill: #1967D2;\n",
              "      height: 32px;\n",
              "      padding: 0 0 0 0;\n",
              "      width: 32px;\n",
              "    }\n",
              "\n",
              "    .colab-df-convert:hover {\n",
              "      background-color: #E2EBFA;\n",
              "      box-shadow: 0px 1px 2px rgba(60, 64, 67, 0.3), 0px 1px 3px 1px rgba(60, 64, 67, 0.15);\n",
              "      fill: #174EA6;\n",
              "    }\n",
              "\n",
              "    [theme=dark] .colab-df-convert {\n",
              "      background-color: #3B4455;\n",
              "      fill: #D2E3FC;\n",
              "    }\n",
              "\n",
              "    [theme=dark] .colab-df-convert:hover {\n",
              "      background-color: #434B5C;\n",
              "      box-shadow: 0px 1px 3px 1px rgba(0, 0, 0, 0.15);\n",
              "      filter: drop-shadow(0px 1px 2px rgba(0, 0, 0, 0.3));\n",
              "      fill: #FFFFFF;\n",
              "    }\n",
              "  </style>\n",
              "\n",
              "      <script>\n",
              "        const buttonEl =\n",
              "          document.querySelector('#df-e6e4c7ce-7da1-4d99-bdfc-56c6b1820a92 button.colab-df-convert');\n",
              "        buttonEl.style.display =\n",
              "          google.colab.kernel.accessAllowed ? 'block' : 'none';\n",
              "\n",
              "        async function convertToInteractive(key) {\n",
              "          const element = document.querySelector('#df-e6e4c7ce-7da1-4d99-bdfc-56c6b1820a92');\n",
              "          const dataTable =\n",
              "            await google.colab.kernel.invokeFunction('convertToInteractive',\n",
              "                                                     [key], {});\n",
              "          if (!dataTable) return;\n",
              "\n",
              "          const docLinkHtml = 'Like what you see? Visit the ' +\n",
              "            '<a target=\"_blank\" href=https://colab.research.google.com/notebooks/data_table.ipynb>data table notebook</a>'\n",
              "            + ' to learn more about interactive tables.';\n",
              "          element.innerHTML = '';\n",
              "          dataTable['output_type'] = 'display_data';\n",
              "          await google.colab.output.renderOutput(dataTable, element);\n",
              "          const docLink = document.createElement('div');\n",
              "          docLink.innerHTML = docLinkHtml;\n",
              "          element.appendChild(docLink);\n",
              "        }\n",
              "      </script>\n",
              "    </div>\n",
              "  </div>\n",
              "  "
            ]
          },
          "metadata": {},
          "execution_count": 20
        }
      ]
    },
    {
      "cell_type": "code",
      "source": [
        "jogadores['salario'] > 200000.0\n",
        "  "
      ],
      "metadata": {
        "colab": {
          "base_uri": "https://localhost:8080/"
        },
        "id": "_iNpq08NoK79",
        "outputId": "3a971ad8-b5e2-4254-875f-9fabaaf1fc34"
      },
      "execution_count": null,
      "outputs": [
        {
          "output_type": "execute_result",
          "data": {
            "text/plain": [
              "0    False\n",
              "1     True\n",
              "2    False\n",
              "3    False\n",
              "Name: salario, dtype: bool"
            ]
          },
          "metadata": {},
          "execution_count": 28
        }
      ]
    },
    {
      "cell_type": "markdown",
      "source": [
        "1. Faça um programa que faça a leitura de 5 valores, e para cada valor, mostre o seu dobro na tela. "
      ],
      "metadata": {
        "id": "4EY-h3mQ1Uik"
      }
    },
    {
      "cell_type": "code",
      "source": [
        "for i in range(1,6):\n",
        "  num1 = int(input('Digite o 1° valor'))\n",
        "  print(f' o dobro do valor é {num1 * 2}')\n",
        "\n",
        "\n",
        "\n"
      ],
      "metadata": {
        "id": "V2fqMrULo581"
      },
      "execution_count": null,
      "outputs": []
    },
    {
      "cell_type": "markdown",
      "source": [
        "2. Faça um programa que leia um número e que imprima os números ímpares de 1 até o número informado"
      ],
      "metadata": {
        "id": "yXGswH3o2LOk"
      }
    },
    {
      "cell_type": "code",
      "source": [
        "num =  int(input('Digite o 1° valor'))\n",
        "for i in range(1,num +1):\n",
        "  if i % 2 !=0:\n",
        "    print(i)\n"
      ],
      "metadata": {
        "id": "JYkWk0pbtTTU"
      },
      "execution_count": null,
      "outputs": []
    },
    {
      "cell_type": "markdown",
      "source": [
        "3. Leia um número e imprima a tabuada de multiplicar deste número. "
      ],
      "metadata": {
        "id": "tORqtx1H45kt"
      }
    },
    {
      "cell_type": "code",
      "source": [
        "n =  int(input('Digite o 1° valor'))\n",
        "for i in range(1,11):\n",
        "  print(f'{n} * {i} = {n * i} ')"
      ],
      "metadata": {
        "id": "jYuHv7z44E-H"
      },
      "execution_count": null,
      "outputs": []
    },
    {
      "cell_type": "markdown",
      "source": [
        "4. Faça um programa que leia dois números inteiros e que imprima todos os\n",
        "números inteiros existentes entre o menor e o maior número informados"
      ],
      "metadata": {
        "id": "86LnC73Q7QyV"
      }
    },
    {
      "cell_type": "code",
      "source": [
        "n1 = int(input('Digite o 1° valor'))\n",
        "n2 = int(input('Digite o 1° valor'))\n",
        "if n1 < n2:\n",
        "  menor = n1\n",
        "  maior = n2\n",
        "else:\n",
        "  menor = n2\n",
        "  maior = n1\n",
        "\n",
        "# Impressão dos números entre o menor e o maior\n",
        "for numero in range(menor + 1, maior):\n",
        "    print(numero)"
      ],
      "metadata": {
        "id": "XyqvLwlc6P2v"
      },
      "execution_count": null,
      "outputs": []
    },
    {
      "cell_type": "markdown",
      "source": [
        "5. Faça um programa que leia um número que calcule a soma dos números\n",
        "inteiros entre 1 e o número informado"
      ],
      "metadata": {
        "id": "vgYCBcvI_Du1"
      }
    },
    {
      "cell_type": "code",
      "source": [
        "# Leitura do número informado pelo usuário\n",
        "numero = int(input(\"Digite um número inteiro: \"))\n",
        "\n",
        "soma = 0\n",
        "\n",
        "# Cálculo da soma dos números inteiros entre 1 e o número informado\n",
        "for i in range(1, numero + 1):\n",
        "    soma = soma +  i\n",
        "\n",
        "# Impressão da soma\n",
        "print(\"A soma dos números inteiros entre 1 e\", numero, \"é:\", soma)\n"
      ],
      "metadata": {
        "colab": {
          "base_uri": "https://localhost:8080/"
        },
        "id": "iCB4lzpP8oo2",
        "outputId": "769afb90-4b97-4ff8-97f5-f14ead3fb3cf"
      },
      "execution_count": null,
      "outputs": [
        {
          "output_type": "stream",
          "name": "stdout",
          "text": [
            "Digite um número inteiro: 10\n",
            "A soma dos números inteiros entre 1 e 10 é: 55\n"
          ]
        }
      ]
    },
    {
      "cell_type": "markdown",
      "source": [
        "6. Faça um programa que leia um número e que calcule o fatorial deste número"
      ],
      "metadata": {
        "id": "Yxxn6U7iAPwV"
      }
    },
    {
      "cell_type": "code",
      "source": [
        "# Leitura do número informado pelo usuário\n",
        "numero = int(input(\"Digite um número inteiro: \"))\n",
        "\n",
        "# Verificação se o número é negativo\n",
        "if numero < 0:\n",
        "    print(\"O fatorial não pode ser calculado para números negativos.\")\n",
        "elif numero == 0:\n",
        "    print(\"O fatorial de 0 é 1.\")\n",
        "else:\n",
        "    fatorial = 1\n",
        "\n",
        "    # Cálculo do fatorial do número\n",
        "    for i in range(1, numero + 1):\n",
        "        fatorial = fatorial *  i\n",
        "\n",
        "    # Impressão do resultado\n",
        "    print(\"O fatorial de\", numero, \"é:\", fatorial)\n"
      ],
      "metadata": {
        "colab": {
          "base_uri": "https://localhost:8080/"
        },
        "id": "ngMLF9kK_UoW",
        "outputId": "b79412cd-b9da-4cfd-ce95-0c8620807ea0"
      },
      "execution_count": null,
      "outputs": [
        {
          "output_type": "stream",
          "name": "stdout",
          "text": [
            "Digite um número inteiro: 5\n",
            "O fatorial de 5 é: 120\n"
          ]
        }
      ]
    },
    {
      "cell_type": "markdown",
      "source": [
        "7. Faça um programa que solicite ao usuário que informe o peso, em kg, de 10\n",
        "pessoas, e em seguida, exiba a média desses pesos"
      ],
      "metadata": {
        "id": "B8fnFHIYAt49"
      }
    },
    {
      "cell_type": "code",
      "source": [
        "# Inicialização da variável de soma dos pesos\n",
        "soma_pesos = 0\n",
        "\n",
        "# Loop para ler o peso de cada pessoa\n",
        "for i in range(1, 11):\n",
        "    peso = float(input(f'Informe o peso da pessoa {i}: '))\n",
        "    soma_pesos = soma_pesos +  peso\n",
        "\n",
        "# Cálculo da média dos pesos\n",
        "media_pesos = soma_pesos / 10\n",
        "\n",
        "# Exibição da média dos pesos\n",
        "print(\"A média dos pesos informados é:\", media_pesos)\n"
      ],
      "metadata": {
        "id": "3LDJ_t1jAoht"
      },
      "execution_count": null,
      "outputs": []
    },
    {
      "cell_type": "markdown",
      "source": [
        "8. Faça um programa que leia o sexo e o peso de 10 pessoas, e mostre quantas\n",
        "pessoas do sexo masculino possuem peso entre 60 e 80 kg, bem como a\n",
        "quantidade de mulheres que possuem peso entre 50 e 70 kg.\n"
      ],
      "metadata": {
        "id": "_PzSZAQhBzd-"
      }
    },
    {
      "cell_type": "code",
      "source": [
        "# Inicialização das variáveis de contagem\n",
        "homens_peso_60_80 = 0\n",
        "mulheres_peso_50_70 = 0\n",
        "\n",
        "# Loop para ler o sexo e peso de cada pessoa\n",
        "for i in range(1, 11):\n",
        "    sexo = input(\"Informe o sexo da pessoa {} (M para masculino, F para feminino): \".format(i))\n",
        "    peso = float(input(\"Informe o peso da pessoa {}: \".format(i)))\n",
        "\n",
        "    # Verificação do sexo e faixa de peso\n",
        "    if sexo.upper() == \"M\" and peso >= 60 and peso <= 80:\n",
        "        homens_peso_60_80 += 1\n",
        "    elif sexo.upper() == \"F\" and peso >= 50 and peso <= 70:\n",
        "        mulheres_peso_50_70 += 1\n",
        "\n",
        "# Exibição dos resultados\n",
        "print(\"Quantidade de homens com peso entre 60 e 80 kg:\", homens_peso_60_80)\n",
        "print(\"Quantidade de mulheres com peso entre 50 e 70 kg:\", mulheres_peso_50_70)\n"
      ],
      "metadata": {
        "id": "BD3q2ayGBJVP"
      },
      "execution_count": null,
      "outputs": []
    },
    {
      "cell_type": "markdown",
      "source": [
        ". Faça um programa que leia a idade e peso de sete pessoas. Calcule e mostre:\n",
        "- a quantidade de pessoas com mais de 90 kg\n",
        "- a média das idades das sete pessoas"
      ],
      "metadata": {
        "id": "hXGFW6AiDcm-"
      }
    },
    {
      "cell_type": "code",
      "source": [
        "# Inicialização das variáveis\n",
        "quantidade_pessoas_mais_90kg = 0\n",
        "soma_idades = 0\n",
        "\n",
        "# Loop para ler a idade e peso de cada pessoa\n",
        "for i in range(1, 8):\n",
        "    idade = int(input(f'Informe a idade da pessoa {i}: '))\n",
        "    peso = float(input(f'Informe o peso da pessoa {i}: '))\n",
        "\n",
        "    # Verificação do peso\n",
        "    if peso > 90:\n",
        "        quantidade_pessoas_mais_90kg += 1\n",
        "\n",
        "    # Soma das idades\n",
        "    soma_idades += idade\n",
        "\n",
        "# Cálculo da média das idades\n",
        "media_idades = soma_idades / 7\n",
        "\n",
        "# Exibição dos resultados\n",
        "print(f'Quantidade de pessoas com mais de 90 kg:{quantidade_pessoas_mais_90kg}')\n",
        "print(f'Média das idades das sete pessoas: {media_idades}')\n"
      ],
      "metadata": {
        "id": "2vR3ie2uDdk9"
      },
      "execution_count": null,
      "outputs": []
    },
    {
      "cell_type": "markdown",
      "source": [
        "10. Faça um programa que leia um número e que imprima na tela se o número é\n",
        "primo ou não."
      ],
      "metadata": {
        "id": "v7h8tE1cE6a3"
      }
    },
    {
      "cell_type": "code",
      "source": [
        "# Leitura do número informado pelo usuário\n",
        "numero = int(input(\"Digite um número inteiro: \"))\n",
        "\n",
        "# Verificação se o número é primo\n",
        "eh_primo = True\n",
        "\n",
        "if numero <= 1:\n",
        "    eh_primo = False\n",
        "else:\n",
        "    for i in range(2, numero):\n",
        "        if numero % i == 0:\n",
        "            eh_primo = False\n",
        "            break\n",
        "\n",
        "# Impressão do resultado\n",
        "if eh_primo:\n",
        "    print(\"O número é primo.\")\n",
        "else:\n",
        "    print(\"O número não é primo.\")\n"
      ],
      "metadata": {
        "colab": {
          "base_uri": "https://localhost:8080/"
        },
        "id": "jjvc6yFkE4n9",
        "outputId": "0057c938-5a9a-449f-c884-c826346f249b"
      },
      "execution_count": null,
      "outputs": [
        {
          "output_type": "stream",
          "name": "stdout",
          "text": [
            "Digite um número inteiro: 53\n",
            "O número é primo.\n"
          ]
        }
      ]
    }
  ]
}